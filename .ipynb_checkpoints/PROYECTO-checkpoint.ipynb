{
 "cells": [],
 "metadata": {
  "environment": {
   "name": "tf2-gpu.2-6.m79",
   "type": "gcloud",
   "uri": "gcr.io/deeplearning-platform-release/tf2-gpu.2-6:m79"
  }
 },
 "nbformat": 4,
 "nbformat_minor": 5
}
